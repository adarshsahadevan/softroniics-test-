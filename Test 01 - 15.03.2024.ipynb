{
 "cells": [
  {
   "cell_type": "markdown",
   "id": "e557fa68",
   "metadata": {},
   "source": [
    "# 1) sum of array except self"
   ]
  },
  {
   "cell_type": "code",
   "execution_count": 2,
   "id": "bb0be625",
   "metadata": {},
   "outputs": [
    {
     "name": "stdout",
     "output_type": "stream",
     "text": [
      "4\n",
      "4 3 2 10\n",
      "['4', '3', '2', '10']\n",
      "[15, 16, 17, 9]\n"
     ]
    }
   ],
   "source": [
    "n=int(input())\n",
    "array=input().split()\n",
    "print(array)\n",
    "\n",
    "n_array=[]\n",
    "for i in array:\n",
    "    I=int(i)\n",
    "    n_array.append(I)\n",
    "\n",
    "\n",
    "n1_array=[] \n",
    "for i in n_array:\n",
    "    sum_=sum(n_array)\n",
    "    x=sum_-i\n",
    "    n1_array.append(x)\n",
    "print(n1_array)"
   ]
  },
  {
   "cell_type": "code",
   "execution_count": null,
   "id": "0575a633",
   "metadata": {},
   "outputs": [],
   "source": []
  },
  {
   "cell_type": "markdown",
   "id": "09c01959",
   "metadata": {},
   "source": [
    "# 2) Ascending and Descending sort Halves"
   ]
  },
  {
   "cell_type": "code",
   "execution_count": 9,
   "id": "c355f266",
   "metadata": {},
   "outputs": [
    {
     "name": "stdout",
     "output_type": "stream",
     "text": [
      "1 3 4 7 "
     ]
    },
    {
     "ename": "IndexError",
     "evalue": "list index out of range",
     "output_type": "error",
     "traceback": [
      "\u001b[1;31m---------------------------------------------------------------------------\u001b[0m",
      "\u001b[1;31mIndexError\u001b[0m                                Traceback (most recent call last)",
      "Cell \u001b[1;32mIn[9], line 7\u001b[0m\n\u001b[0;32m      5\u001b[0m     \u001b[38;5;28mprint\u001b[39m(array[i], end\u001b[38;5;241m=\u001b[39m\u001b[38;5;124m\"\u001b[39m\u001b[38;5;124m \u001b[39m\u001b[38;5;124m\"\u001b[39m)\n\u001b[0;32m      6\u001b[0m \u001b[38;5;28;01mfor\u001b[39;00m j \u001b[38;5;129;01min\u001b[39;00m \u001b[38;5;28mrange\u001b[39m(n, n \u001b[38;5;241m/\u001b[39m\u001b[38;5;241m/\u001b[39m \u001b[38;5;241m2\u001b[39m \u001b[38;5;241m-\u001b[39m \u001b[38;5;241m1\u001b[39m, \u001b[38;5;241m-\u001b[39m\u001b[38;5;241m1\u001b[39m):\n\u001b[1;32m----> 7\u001b[0m     \u001b[38;5;28mprint\u001b[39m(array[j], end\u001b[38;5;241m=\u001b[39m\u001b[38;5;124m\"\u001b[39m\u001b[38;5;124m \u001b[39m\u001b[38;5;124m\"\u001b[39m)      \n\u001b[0;32m      8\u001b[0m \u001b[38;5;28mprint\u001b[39m(\u001b[38;5;124m\"\u001b[39m\u001b[38;5;124msorted array is \u001b[39m\u001b[38;5;124m\"\u001b[39m,array)\n",
      "\u001b[1;31mIndexError\u001b[0m: list index out of range"
     ]
    }
   ],
   "source": [
    "array=[3,10,67,4,90,1,78,45,7]\n",
    "array.sort() \n",
    "n = len(array)\n",
    "for i in range(n // 2):\n",
    "    print(array[i], end=\" \")\n",
    "for j in range(n, n // 2 , -1):\n",
    "    print(array[j], end=\" \")      \n",
    "print(\"sorted array is \",array)"
   ]
  },
  {
   "cell_type": "code",
   "execution_count": 10,
   "id": "be16f517",
   "metadata": {},
   "outputs": [
    {
     "name": "stdout",
     "output_type": "stream",
     "text": [
      "10 34 45 "
     ]
    },
    {
     "ename": "IndexError",
     "evalue": "list index out of range",
     "output_type": "error",
     "traceback": [
      "\u001b[1;31m---------------------------------------------------------------------------\u001b[0m",
      "\u001b[1;31mIndexError\u001b[0m                                Traceback (most recent call last)",
      "Cell \u001b[1;32mIn[10], line 7\u001b[0m\n\u001b[0;32m      5\u001b[0m     \u001b[38;5;28mprint\u001b[39m(array1[i], end\u001b[38;5;241m=\u001b[39m\u001b[38;5;124m\"\u001b[39m\u001b[38;5;124m \u001b[39m\u001b[38;5;124m\"\u001b[39m)\n\u001b[0;32m      6\u001b[0m \u001b[38;5;28;01mfor\u001b[39;00m j \u001b[38;5;129;01min\u001b[39;00m \u001b[38;5;28mrange\u001b[39m(n, n \u001b[38;5;241m/\u001b[39m\u001b[38;5;241m/\u001b[39m \u001b[38;5;241m2\u001b[39m \u001b[38;5;241m-\u001b[39m \u001b[38;5;241m1\u001b[39m, \u001b[38;5;241m-\u001b[39m\u001b[38;5;241m1\u001b[39m):\n\u001b[1;32m----> 7\u001b[0m     \u001b[38;5;28mprint\u001b[39m(array1[j], end\u001b[38;5;241m=\u001b[39m\u001b[38;5;124m\"\u001b[39m\u001b[38;5;124m \u001b[39m\u001b[38;5;124m\"\u001b[39m)      \n\u001b[0;32m      8\u001b[0m \u001b[38;5;28mprint\u001b[39m(\u001b[38;5;124m\"\u001b[39m\u001b[38;5;124msorted array is \u001b[39m\u001b[38;5;124m\"\u001b[39m,array1)\n",
      "\u001b[1;31mIndexError\u001b[0m: list index out of range"
     ]
    }
   ],
   "source": [
    "array1=[45,67,90,34,87,10]\n",
    "array1.sort() \n",
    "n = len(array1)\n",
    "for i in range(n // 2):\n",
    "    print(array1[i], end=\" \")\n",
    "for j in range(n, n // 2 - 1, -1):\n",
    "    print(array1[j], end=\" \")      \n",
    "print(\"sorted array is \",array1)"
   ]
  },
  {
   "cell_type": "code",
   "execution_count": null,
   "id": "fbb730d6",
   "metadata": {},
   "outputs": [],
   "source": []
  },
  {
   "cell_type": "code",
   "execution_count": null,
   "id": "25d8599d",
   "metadata": {},
   "outputs": [],
   "source": []
  }
 ],
 "metadata": {
  "kernelspec": {
   "display_name": "Python 3 (ipykernel)",
   "language": "python",
   "name": "python3"
  },
  "language_info": {
   "codemirror_mode": {
    "name": "ipython",
    "version": 3
   },
   "file_extension": ".py",
   "mimetype": "text/x-python",
   "name": "python",
   "nbconvert_exporter": "python",
   "pygments_lexer": "ipython3",
   "version": "3.11.5"
  }
 },
 "nbformat": 4,
 "nbformat_minor": 5
}
